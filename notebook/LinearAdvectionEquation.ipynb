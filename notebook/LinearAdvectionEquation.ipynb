{
 "cells": [
  {
   "attachments": {},
   "cell_type": "markdown",
   "metadata": {
    "id": "uRe8DWClD91s"
   },
   "source": [
    "<a href=\"https://colab.research.google.com/github/amanotk/numerical-geophysics/blob/main/notebook/LinearAdvectionEquation.ipynb\">\n",
    "<img src=\"https://colab.research.google.com/assets/colab-badge.svg\" alt=\"Open In Colab\">\n",
    "</a>\n",
    "\n",
    "# 線形移流方程式\n",
    "\n",
    "以下の線形移流方程式の数値解を差分法によって求める．\n",
    "$$\n",
    "\\frac{\\partial u}{\\partial t} + c \\frac{\\partial u}{\\partial x} = 0\n",
    "$$\n",
    "ただし$c = 1$，$0 \\leq x \\leq 1$とする．\n",
    "\n",
    "- 境界条件（$x = 0, 1$）  \n",
    "周期境界条件\n",
    "$$\n",
    "u(1) = u(0)\n",
    "$$\n",
    "を採用する．\n",
    "- 初期条件（$t = 0$）  \n",
    "$$\n",
    "u(x) =\n",
    "\\begin{cases}\n",
    "& 1 \\quad 0 \\leq x < \\frac{1}{2}\n",
    "\\\\\n",
    "& 0 \\quad \\frac{1}{2} \\leq x < 1\n",
    "\\end{cases}\n",
    "$$\n",
    "または\n",
    "$$\n",
    "u(x) = \\sin \\left( 2\\pi x \\right)\n",
    "$$\n",
    "のいずれか．\n",
    "\n",
    "以下ではグリッド数を$N_x$, グリッド幅を$\\Delta x = 1/N_x$，時間ステップを$\\Delta t$とする．また，Courant数を$\\nu = c \\Delta t / \\Delta x$と置く．"
   ]
  },
  {
   "cell_type": "markdown",
   "metadata": {
    "id": "PyxP6u-wgIzK"
   },
   "source": [
    "## テクニカルな話\n",
    "\n",
    "### 時間発展の実装\n",
    "\n",
    "スキームの説明に$u^{n}_{i}$のような書き方がされるので時間方向にもメモリを確保して2次元配列を使おうとする人が度々見受けられるが，通常はそのようなことはしない．時間発展の計算には過去のデータは必要ないので，配列を新しい解で次々上書きしていけばよい．  \n",
    "得られた数値解の時間発展を解析したい場合には必要な時間ステップのデータのみファイルに保存しておけき，計算が終了した後に解析をする．（ただし，このNotebookではデータの保存はせずにプロットだけをしている．）\n",
    "\n",
    "\n",
    "### 境界条件の指定方法\n",
    "\n",
    "差分法系のスキームの実装には，数値解を格納する配列として物理領域よりも境界条件の分だけ余分にメモリを確保して用いる．例えばグリッド数`Nx`に対して配列の長さを`Nx+2`とし，物理領域の配列`u[ix]`のインデックスは`ix = 1, 2, ..., Nx`までとする．\n",
    "\n",
    "例えばFTCSスキームで`u[1]`の解を更新するには`u[0]`の値が，`u[Nx]`の値を更新するには`u[Nx+1]`の値がそれぞれ適切に設定されている必要がある．毎ステップこれらの値を境界条件に基づいて適切に設定しておけば，`ix = 1, 2, ..., Nx`の全ての点について同じ手順で`u[ix]`を更新できる（無駄な条件分岐などが必要ない）．具体的に，周期境界条件の場合は\n",
    "```python\n",
    "# 境界条件\n",
    "u[   0] = u[Nx]\n",
    "u[Nx+1] = u[ 1]\n",
    "```\n",
    "のようにすればよい．\n",
    "\n",
    "並列計算をしなければならない場合にはこのような実装がほぼ必須であり，境界条件を設定する`u[0]`や`u[Nx+1]`を（「のりしろ」と呼ばれる）を異なるプロセス間で転送することになる．"
   ]
  },
  {
   "cell_type": "code",
   "execution_count": null,
   "metadata": {
    "executionInfo": {
     "elapsed": 4,
     "status": "ok",
     "timestamp": 1649152711569,
     "user": {
      "displayName": "Takanobu Amano",
      "userId": "09073760943970528850"
     },
     "user_tz": -540
    },
    "id": "VDF7pjnmHdkC"
   },
   "outputs": [],
   "source": [
    "# 準備\n",
    "import numpy as np\n",
    "import matplotlib as mpl\n",
    "from matplotlib import pyplot as plt"
   ]
  },
  {
   "cell_type": "code",
   "execution_count": null,
   "metadata": {
    "executionInfo": {
     "elapsed": 3,
     "status": "ok",
     "timestamp": 1649152711569,
     "user": {
      "displayName": "Takanobu Amano",
      "userId": "09073760943970528850"
     },
     "user_tz": -540
    },
    "id": "JCIDgckKJ2dC"
   },
   "outputs": [],
   "source": [
    "# フォントサイズ\n",
    "plt.rcParams[\"font.size\"] = 14\n",
    "\n",
    "# 初期条件\n",
    "def set_initial(Nx, type=0):\n",
    "  \"初期条件を設定する(typeによって切り替える）\"\n",
    "  dx = 1/Nx\n",
    "  xx = (np.arange(Nx+2) - 0.5)*dx\n",
    "  if type == 0:\n",
    "    return xx, np.where(xx<0.5, 1.0, 0.0)  \n",
    "  if type == 1:\n",
    "    return xx, np.sin(2*np.pi*xx)"
   ]
  },
  {
   "cell_type": "markdown",
   "metadata": {
    "id": "DWwuvYX5DjV0"
   },
   "source": [
    "## FTCSスキーム\n",
    "\n",
    "$$\n",
    "u^{n+1}_{i} = u^{n}_{i} - \\frac{1}{2} \\nu \\left( u^{n}_{i+1} - u^{n}_{i-1} \\right)\n",
    "$$"
   ]
  },
  {
   "cell_type": "code",
   "execution_count": null,
   "metadata": {
    "colab": {
     "base_uri": "https://localhost:8080/",
     "height": 457
    },
    "executionInfo": {
     "elapsed": 978,
     "status": "ok",
     "timestamp": 1649152712752,
     "user": {
      "displayName": "Takanobu Amano",
      "userId": "09073760943970528850"
     },
     "user_tz": -540
    },
    "id": "aXL7KLmWDmNi",
    "outputId": "0002b2cf-cf50-4474-fb5d-2bbbf473972a"
   },
   "outputs": [],
   "source": [
    "def push_ftcs(u, nu, step):\n",
    "  \"FTCSスキームによってstep数だけ時間更新する\"\n",
    "  Nx = np.size(u) - 2\n",
    "  ix = np.arange(1, Nx+1, dtype=np.int32)\n",
    "  for n in range(step):\n",
    "    # 更新\n",
    "    u[ix] = u[ix] - 0.5*nu*(u[ix+1] - u[ix-1])\n",
    "    # 境界条件\n",
    "    u[   0] = u[Nx]\n",
    "    u[Nx+1] = u[ 1]\n",
    "\n",
    "# パラメータ\n",
    "Nx = 50\n",
    "nu = 0.5\n",
    "dx = 1/Nx\n",
    "dt = nu * dx\n",
    "ix = np.arange(1, Nx+1)\n",
    "\n",
    "# 初期条件\n",
    "x, u = set_initial(Nx, 0)\n",
    "\n",
    "# プロット\n",
    "fig, axs = plt.subplots(figsize=(10, 6))\n",
    "step = 5\n",
    "for n in range(4):\n",
    "  plt.plot(x[ix], u[ix], label='t = {:5.3f}'.format(n*step*dt))\n",
    "  push_ftcs(u, nu, step)\n",
    "\n",
    "plt.xlim(0.0, 1.0)\n",
    "plt.xlabel('x')\n",
    "plt.ylabel('u')\n",
    "plt.legend(loc='upper left', bbox_to_anchor=(1.0, 1.0))\n",
    "plt.suptitle('FTCS')"
   ]
  },
  {
   "cell_type": "markdown",
   "metadata": {
    "id": "gnP655V-SEGa"
   },
   "source": [
    "## FTFSスキームおよびFTBSスキーム\n",
    "\n",
    "- FTFSスキーム\n",
    "$$\n",
    "u^{n+1}_{i} = u^{n}_{i} - \\nu \\left( u^{n}_{i+1} - u^{n}_{i} \\right)\n",
    "$$\n",
    "\n",
    "- FTBSスキーム\n",
    "$$\n",
    "u^{n+1}_{i} = u^{n}_{i} - \\nu \\left( u^{n}_{i} - u^{n}_{i-1} \\right)\n",
    "$$"
   ]
  },
  {
   "cell_type": "code",
   "execution_count": null,
   "metadata": {
    "colab": {
     "base_uri": "https://localhost:8080/",
     "height": 457
    },
    "executionInfo": {
     "elapsed": 7,
     "status": "ok",
     "timestamp": 1649152712753,
     "user": {
      "displayName": "Takanobu Amano",
      "userId": "09073760943970528850"
     },
     "user_tz": -540
    },
    "id": "IiGU1M--SmCs",
    "outputId": "1dc508d3-51d7-41d7-9e14-6ae5ad1a4af6"
   },
   "outputs": [],
   "source": [
    "def push_ftfs(u, nu, step):\n",
    "  \"FTFSスキームによってstep数だけ時間更新する\"\n",
    "  Nx = np.size(u) - 2\n",
    "  ix = np.arange(1, Nx+1, dtype=np.int32)\n",
    "  for n in range(step):\n",
    "    # 更新\n",
    "    u[ix] = u[ix] - nu*(u[ix+1] - u[ix])\n",
    "    # 境界条件\n",
    "    u[   0] = u[Nx]\n",
    "    u[Nx+1] = u[ 1]\n",
    "\n",
    "# パラメータ\n",
    "Nx = 50\n",
    "nu = 0.5\n",
    "dx = 1/Nx\n",
    "dt = nu * dx\n",
    "ix = np.arange(1, Nx+1)\n",
    "\n",
    "# 初期条件\n",
    "x, u = set_initial(Nx, 0)\n",
    "\n",
    "# プロット\n",
    "fig, axs = plt.subplots(figsize=(10, 6))\n",
    "step = 5\n",
    "for n in range(4):\n",
    "  plt.plot(x[ix], u[ix], label='t = {:5.3f}'.format(n*step*dt))\n",
    "  push_ftfs(u, nu, step)\n",
    "\n",
    "plt.xlim(0.0, 1.0)\n",
    "plt.xlabel('x')\n",
    "plt.ylabel('u')\n",
    "plt.legend(loc='upper left', bbox_to_anchor=(1.0, 1.0))\n",
    "plt.suptitle('FTFS')"
   ]
  },
  {
   "cell_type": "code",
   "execution_count": null,
   "metadata": {
    "colab": {
     "base_uri": "https://localhost:8080/",
     "height": 457
    },
    "executionInfo": {
     "elapsed": 612,
     "status": "ok",
     "timestamp": 1649152713360,
     "user": {
      "displayName": "Takanobu Amano",
      "userId": "09073760943970528850"
     },
     "user_tz": -540
    },
    "id": "Sg8ko-02Sw9H",
    "outputId": "f563a64c-8826-4717-eeba-e9650e4a23f9"
   },
   "outputs": [],
   "source": [
    "def push_ftbs(u, nu, step):\n",
    "  \"FTBSスキームによってstep数だけ時間更新する\"\n",
    "  Nx = np.size(u) - 2\n",
    "  ix = np.arange(1, Nx+1, dtype=np.int32)\n",
    "  for n in range(step):\n",
    "    # 更新\n",
    "    u[ix] = u[ix] - nu*(u[ix] - u[ix-1])\n",
    "    # 境界条件\n",
    "    u[   0] = u[Nx]\n",
    "    u[Nx+1] = u[ 1]\n",
    "\n",
    "# パラメータ\n",
    "Nx = 50\n",
    "nu = 0.5\n",
    "dx = 1/Nx\n",
    "dt = nu * dx\n",
    "ix = np.arange(1, Nx+1)\n",
    "\n",
    "# 初期条件\n",
    "x, u = set_initial(Nx, 0)\n",
    "\n",
    "# プロット\n",
    "fig, axs = plt.subplots(figsize=(10, 6))\n",
    "step = 5\n",
    "for n in range(4):\n",
    "  plt.plot(x[ix], u[ix], label='t = {:5.3f}'.format(n*step*dt))\n",
    "  push_ftbs(u, nu, step)\n",
    "\n",
    "plt.xlim(0.0, 1.0)\n",
    "plt.xlabel('x')\n",
    "plt.ylabel('u')\n",
    "plt.legend(loc='upper left', bbox_to_anchor=(1.0, 1.0))\n",
    "plt.suptitle('FTBS')"
   ]
  },
  {
   "cell_type": "code",
   "execution_count": null,
   "metadata": {
    "colab": {
     "base_uri": "https://localhost:8080/",
     "height": 457
    },
    "executionInfo": {
     "elapsed": 487,
     "status": "ok",
     "timestamp": 1649152713843,
     "user": {
      "displayName": "Takanobu Amano",
      "userId": "09073760943970528850"
     },
     "user_tz": -540
    },
    "id": "WLn5KWcWS4Jv",
    "outputId": "66338d57-dd89-484b-c236-58ce89072b45"
   },
   "outputs": [],
   "source": [
    "def push_lf(u, nu, step):\n",
    "  \"Lax-Friedrichsスキームによってstep数だけ時間更新する\"\n",
    "  Nx = np.size(u) - 2\n",
    "  ix = np.arange(1, Nx+1, dtype=np.int32)\n",
    "  for n in range(step):\n",
    "    # 更新\n",
    "    u[ix] = 0.5*(u[ix+1] + u[ix-1]) - 0.5*nu*(u[ix+1] - u[ix-1])\n",
    "    # 境界条件\n",
    "    u[   0] = u[Nx]\n",
    "    u[Nx+1] = u[ 1]\n",
    "\n",
    "# パラメータ\n",
    "Nx = 50\n",
    "nu = 0.5\n",
    "dx = 1/Nx\n",
    "dt = nu * dx\n",
    "ix = np.arange(1, Nx+1)\n",
    "\n",
    "# 初期条件\n",
    "x, u = set_initial(Nx, 0)\n",
    "\n",
    "# プロット\n",
    "fig, axs = plt.subplots(figsize=(10, 6))\n",
    "step = 5\n",
    "for n in range(4):\n",
    "  plt.plot(x[ix], u[ix], label='t = {:5.3f}'.format(n*step*dt))\n",
    "  push_lf(u, nu, step)\n",
    "\n",
    "plt.xlim(0.0, 1.0)\n",
    "plt.xlabel('x')\n",
    "plt.ylabel('u')\n",
    "plt.legend(loc='upper left', bbox_to_anchor=(1.0, 1.0))\n",
    "plt.suptitle('Lax-Friedrichs')"
   ]
  },
  {
   "cell_type": "code",
   "execution_count": null,
   "metadata": {
    "colab": {
     "base_uri": "https://localhost:8080/",
     "height": 457
    },
    "executionInfo": {
     "elapsed": 7,
     "status": "ok",
     "timestamp": 1649152713844,
     "user": {
      "displayName": "Takanobu Amano",
      "userId": "09073760943970528850"
     },
     "user_tz": -540
    },
    "id": "-wR2ee5YYTIZ",
    "outputId": "634419bc-1f7a-4877-9812-df71fa612e3e"
   },
   "outputs": [],
   "source": [
    "def push_lw(u, nu, step):\n",
    "  \"Lax-Wendroffスキームによってstep数だけ時間更新する\"\n",
    "  Nx = np.size(u) - 2\n",
    "  ix = np.arange(1, Nx+1, dtype=np.int32)\n",
    "  for n in range(step):\n",
    "    # 更新\n",
    "    u[ix] = u[ix] - \\\n",
    "      0.5*nu*(u[ix+1] - u[ix-1]) + \\\n",
    "      0.5*nu**2*(u[ix+1] - 2*u[ix] + u[ix-1])\n",
    "    # 境界条件\n",
    "    u[   0] = u[Nx]\n",
    "    u[Nx+1] = u[ 1]\n",
    "\n",
    "# パラメータ\n",
    "Nx = 50\n",
    "nu = 0.5\n",
    "dx = 1/Nx\n",
    "dt = nu * dx\n",
    "ix = np.arange(1, Nx+1)\n",
    "\n",
    "# 初期条件\n",
    "x, u = set_initial(Nx, 0)\n",
    "\n",
    "# プロット\n",
    "fig, axs = plt.subplots(figsize=(10, 6))\n",
    "step = 5\n",
    "for n in range(4):\n",
    "  plt.plot(x[ix], u[ix], label='t = {:5.3f}'.format(n*step*dt))\n",
    "  push_lw(u, nu, step)\n",
    "\n",
    "plt.xlim(0.0, 1.0)\n",
    "plt.xlabel('x')\n",
    "plt.ylabel('u')\n",
    "plt.legend(loc='upper left', bbox_to_anchor=(1.0, 1.0))\n",
    "plt.suptitle('Lax-Wendroff')"
   ]
  },
  {
   "cell_type": "code",
   "execution_count": null,
   "metadata": {
    "colab": {
     "base_uri": "https://localhost:8080/",
     "height": 457
    },
    "executionInfo": {
     "elapsed": 256,
     "status": "ok",
     "timestamp": 1649152714095,
     "user": {
      "displayName": "Takanobu Amano",
      "userId": "09073760943970528850"
     },
     "user_tz": -540
    },
    "id": "WvKkN0f3a4PR",
    "outputId": "6d3ee1fe-2f0f-462d-c656-f89b0ab53df8"
   },
   "outputs": [],
   "source": [
    "def push_lw_av(u, nu, step, epsilon):\n",
    "  \"Lax-Wendroffスキーム（人工粘性あり）によってstep数だけ時間更新する\"\n",
    "  Nx = np.size(u) - 2\n",
    "  ix = np.arange(1, Nx+1, dtype=np.int32)\n",
    "  for n in range(step):\n",
    "    # 人工粘性の係数を決定\n",
    "    kappa = epsilon*np.abs(u[ix+1] - 2*u[ix] + u[ix+1])\n",
    "    # 更新\n",
    "    u[ix] = u[ix] - \\\n",
    "      0.5*nu*(u[ix+1] - u[ix-1]) + \\\n",
    "      (0.5*nu**2 + kappa)*(u[ix+1] - 2*u[ix] + u[ix-1])\n",
    "    # 境界条件\n",
    "    u[   0] = u[Nx]\n",
    "    u[Nx+1] = u[ 1]\n",
    "\n",
    "# パラメータ\n",
    "Nx = 50\n",
    "nu = 0.5\n",
    "dx = 1/Nx\n",
    "dt = nu * dx\n",
    "ix = np.arange(1, Nx+1)\n",
    "epsilon = 0.2\n",
    "\n",
    "# 初期条件\n",
    "x, u = set_initial(Nx, 0)\n",
    "\n",
    "# プロット\n",
    "fig, axs = plt.subplots(figsize=(10, 6))\n",
    "step = 5\n",
    "for n in range(4):\n",
    "  plt.plot(x[ix], u[ix], label='t = {:5.3f}'.format(n*step*dt))\n",
    "  push_lw_av(u, nu, step, epsilon)\n",
    "\n",
    "plt.xlim(0.0, 1.0)\n",
    "plt.xlabel('x')\n",
    "plt.ylabel('u')\n",
    "plt.legend(loc='upper left', bbox_to_anchor=(1.0, 1.0))\n",
    "plt.suptitle('Lax-Wendroff with Artificial Viscosity')"
   ]
  },
  {
   "cell_type": "code",
   "execution_count": null,
   "metadata": {
    "executionInfo": {
     "elapsed": 6,
     "status": "ok",
     "timestamp": 1649152714095,
     "user": {
      "displayName": "Takanobu Amano",
      "userId": "09073760943970528850"
     },
     "user_tz": -540
    },
    "id": "AaVLzqvy1bOk"
   },
   "outputs": [],
   "source": []
  }
 ],
 "metadata": {
  "colab": {
   "authorship_tag": "ABX9TyOxwh2tupQOlqEFEQJ3rVZ7",
   "collapsed_sections": [],
   "name": "線形移流方程式.ipynb",
   "provenance": []
  },
  "kernelspec": {
   "display_name": "base",
   "language": "python",
   "name": "python3"
  },
  "language_info": {
   "codemirror_mode": {
    "name": "ipython",
    "version": 3
   },
   "file_extension": ".py",
   "mimetype": "text/x-python",
   "name": "python",
   "nbconvert_exporter": "python",
   "pygments_lexer": "ipython3",
   "version": "3.8.16"
  },
  "vscode": {
   "interpreter": {
    "hash": "546c21d3de566120dda309d1397c5675600fd1cfea721af46f796ef4bbd56950"
   }
  }
 },
 "nbformat": 4,
 "nbformat_minor": 0
}
