{
 "cells": [
  {
   "attachments": {},
   "cell_type": "markdown",
   "metadata": {
    "id": "uRe8DWClD91s"
   },
   "source": [
    "<a href=\"https://colab.research.google.com/github/amanotk/numerical-geophysics/blob/main/notebook/LinearWaveEquation.ipynb\">\n",
    "<img src=\"https://colab.research.google.com/assets/colab-badge.svg\" alt=\"Open In Colab\">\n",
    "</a>\n",
    "\n",
    "# 線形波動方程式\n",
    "\n",
    "以下の線形波動方程式の数値解を差分法によって求める．\n",
    "$$\n",
    "\\frac{\\partial^2 f}{\\partial t^2} = c^2 \\frac{\\partial^2 f}{\\partial x^2}\n",
    "$$\n",
    "ここでは2階の微分方程式を\n",
    "$$\n",
    "\\begin{aligned}\n",
    "& \\frac{\\partial f}{\\partial t} + c \\frac{\\partial g}{\\partial x} = 0\n",
    "\\\\\n",
    "& \\frac{\\partial g}{\\partial t} + c \\frac{\\partial f}{\\partial x} = 0\n",
    "\\end{aligned}\n",
    "$$\n",
    "のように$(f, g)$の2変数の1階連立微分方程式に変形し，さらに\n",
    "$$\n",
    "\\begin{aligned}\n",
    "\\frac{\\partial}{\\partial t} (f + g) + c\n",
    "\\frac{\\partial}{\\partial x} (f + g) = 0\n",
    "\\\\\n",
    "\\frac{\\partial}{\\partial t} (f - g) - c\n",
    "\\frac{\\partial}{\\partial x} (f - g) = 0\n",
    "\\end{aligned}\n",
    "$$\n",
    "のように対角化した方程式を数値的に解く．  \n",
    "（簡単に確かめられるように，両式から$g$を消去すれば$f$に関する波動方程式が得られる．）\n",
    "\n",
    "以下では$c = 1$，$-1 \\leq x \\leq 1$とし，周期的境界条件を採用する．"
   ]
  },
  {
   "cell_type": "code",
   "execution_count": null,
   "metadata": {
    "executionInfo": {
     "elapsed": 7,
     "status": "ok",
     "timestamp": 1649152669304,
     "user": {
      "displayName": "Takanobu Amano",
      "userId": "09073760943970528850"
     },
     "user_tz": -540
    },
    "id": "VDF7pjnmHdkC"
   },
   "outputs": [],
   "source": [
    "# 準備\n",
    "import numpy as np\n",
    "import matplotlib as mpl\n",
    "from matplotlib import pyplot as plt"
   ]
  },
  {
   "cell_type": "code",
   "execution_count": null,
   "metadata": {
    "executionInfo": {
     "elapsed": 7,
     "status": "ok",
     "timestamp": 1649152669304,
     "user": {
      "displayName": "Takanobu Amano",
      "userId": "09073760943970528850"
     },
     "user_tz": -540
    },
    "id": "0oPdKmiCJ70i"
   },
   "outputs": [],
   "source": [
    "# フォントサイズ\n",
    "plt.rcParams[\"font.size\"] = 14\n",
    "\n",
    "# 初期条件\n",
    "def set_initial(Nx, sigma, type=0):\n",
    "  \"初期条件を設定する\"\n",
    "  dx = 2/Nx\n",
    "  xx = (np.arange(Nx+2) - 0.5)*dx - 1\n",
    "  ff = np.exp(-0.5*xx**2/sigma**2)\n",
    "  if type == 0:\n",
    "    gg = np.zeros_like(ff)\n",
    "  if type == 1:\n",
    "    gg = ff.copy()\n",
    "  return xx, ff, gg\n",
    "\n",
    "def push_lw(f, g, nu, step):\n",
    "  \"Lax-Wendroffスキームによってstep数だけ時間更新する\"\n",
    "  Nx = np.size(f) - 2\n",
    "  ix = np.arange(1, Nx+1, dtype=np.int32)\n",
    "  # 特性変数に変換\n",
    "  u  = f + g\n",
    "  v  = f - g\n",
    "  for n in range(step):\n",
    "    # 更新\n",
    "    u[ix] = u[ix] - \\\n",
    "      0.5*nu*(u[ix+1] - u[ix-1]) + \\\n",
    "      0.5*nu**2*(u[ix+1] - 2*u[ix] + u[ix-1])\n",
    "    v[ix] = v[ix] + \\\n",
    "      0.5*nu*(v[ix+1] - v[ix-1]) + \\\n",
    "      0.5*nu**2*(v[ix+1] - 2*v[ix] + v[ix-1])\n",
    "    # 境界条件\n",
    "    u[   0] = u[Nx]\n",
    "    u[Nx+1] = u[ 1]\n",
    "    # 境界条件\n",
    "    v[   0] = v[Nx]\n",
    "    v[Nx+1] = v[ 1]\n",
    "  # 逆変換\n",
    "  f[:] = 0.5*(u + v)\n",
    "  g[:] = 0.5*(u - v)"
   ]
  },
  {
   "attachments": {},
   "cell_type": "markdown",
   "metadata": {},
   "source": [
    "まずは初期条件として\n",
    "$$\n",
    "f(x) = \\exp \\left( - \\frac{x^2}{2 \\sigma^2} \\right), \\quad\n",
    "g(x) = 0\n",
    "$$\n",
    "を採用しよう．このときは左右に同じ振幅で波動が伝播する解が得られる．"
   ]
  },
  {
   "cell_type": "code",
   "execution_count": null,
   "metadata": {
    "colab": {
     "base_uri": "https://localhost:8080/",
     "height": 420
    },
    "executionInfo": {
     "elapsed": 9,
     "status": "ok",
     "timestamp": 1649152670255,
     "user": {
      "displayName": "Takanobu Amano",
      "userId": "09073760943970528850"
     },
     "user_tz": -540
    },
    "id": "AaVLzqvy1bOk",
    "outputId": "6f18bf12-b8eb-494c-a3b1-ed3218c18fa3"
   },
   "outputs": [],
   "source": [
    "# パラメータ\n",
    "Nx = 100\n",
    "Nt = 50\n",
    "nu = 0.5\n",
    "dx = 2/Nx\n",
    "dt = nu * dx\n",
    "ix = np.arange(1, Nx+1)\n",
    "w  = np.zeros((Nt, Nx))\n",
    "t  = np.zeros((Nt,))\n",
    "\n",
    "# 初期条件\n",
    "x, u, v = set_initial(Nx, 0.1, 0)\n",
    "\n",
    "# 数値解\n",
    "step = 5\n",
    "for n in range(Nt):\n",
    "  push_lw(u, v, nu, step)\n",
    "  w[n,:] = u[+1:-1]\n",
    "  t[n] = n*step*dt\n",
    "\n",
    "# 以降プロット\n",
    "fig, axs = plt.subplots(2, 1, figsize=(10, 8))\n",
    "\n",
    "## スナップショット\n",
    "plt.sca(axs[0])\n",
    "for nn in range(0, Nt//2, 5):\n",
    "  plt.plot(x[+1:-1], w[nn,:], label='t = {:5.3f}'.format(t[nn]))\n",
    "plt.xlim(-1.0, 1.0)\n",
    "plt.xlabel('x')\n",
    "plt.ylabel('f')\n",
    "plt.legend(loc='upper left', bbox_to_anchor=(1.0, 1.0))\n",
    "\n",
    "## x-tの2次元プロット\n",
    "plt.sca(axs[1])\n",
    "t = np.arange(Nt+1) * step*dt\n",
    "x = 0.5*(x[0:-1] + x[+1:])\n",
    "T, X = np.broadcast_arrays(t[:,None], x[None,:])\n",
    "plt.pcolormesh(X, T, w)\n",
    "plt.xlim(-1.0, 1.0)\n",
    "plt.xlabel('x')\n",
    "plt.ylabel('t')"
   ]
  },
  {
   "attachments": {},
   "cell_type": "markdown",
   "metadata": {},
   "source": [
    "次に初期条件として\n",
    "$$\n",
    "f(x) = g(x) = \\exp \\left( - \\frac{x^2}{2 \\sigma^2} \\right), \\quad\n",
    "$$\n",
    "としてみよう．このときには右側のみに波動が伝播する．"
   ]
  },
  {
   "cell_type": "code",
   "execution_count": null,
   "metadata": {},
   "outputs": [],
   "source": [
    "# パラメータ\n",
    "Nx = 100\n",
    "Nt = 50\n",
    "nu = 0.5\n",
    "dx = 2/Nx\n",
    "dt = nu * dx\n",
    "ix = np.arange(1, Nx+1)\n",
    "w  = np.zeros((Nt, Nx))\n",
    "t  = np.zeros((Nt,))\n",
    "\n",
    "# 初期条件\n",
    "x, u, v = set_initial(Nx, 0.1, 1)\n",
    "\n",
    "# 数値解\n",
    "step = 5\n",
    "for n in range(Nt):\n",
    "  push_lw(u, v, nu, step)\n",
    "  w[n,:] = u[+1:-1]\n",
    "  t[n] = n*step*dt\n",
    "\n",
    "# 以降プロット\n",
    "fig, axs = plt.subplots(2, 1, figsize=(10, 8))\n",
    "\n",
    "## スナップショット\n",
    "plt.sca(axs[0])\n",
    "for nn in range(0, Nt//2, 5):\n",
    "  plt.plot(x[+1:-1], w[nn,:], label='t = {:5.3f}'.format(t[nn]))\n",
    "plt.xlim(-1.0, 1.0)\n",
    "plt.xlabel('x')\n",
    "plt.ylabel('f')\n",
    "plt.legend(loc='upper left', bbox_to_anchor=(1.0, 1.0))\n",
    "\n",
    "## x-tの2次元プロット\n",
    "plt.sca(axs[1])\n",
    "t = np.arange(Nt+1) * step*dt\n",
    "x = 0.5*(x[0:-1] + x[+1:])\n",
    "T, X = np.broadcast_arrays(t[:,None], x[None,:])\n",
    "plt.pcolormesh(X, T, w)\n",
    "plt.xlim(-1.0, 1.0)\n",
    "plt.xlabel('x')\n",
    "plt.ylabel('t')"
   ]
  }
 ],
 "metadata": {
  "colab": {
   "authorship_tag": "ABX9TyNh94D6R60+RQ9nwqYai6VU",
   "collapsed_sections": [],
   "name": "線形波動方程式.ipynb",
   "provenance": []
  },
  "kernelspec": {
   "display_name": "base",
   "language": "python",
   "name": "python3"
  },
  "language_info": {
   "codemirror_mode": {
    "name": "ipython",
    "version": 3
   },
   "file_extension": ".py",
   "mimetype": "text/x-python",
   "name": "python",
   "nbconvert_exporter": "python",
   "pygments_lexer": "ipython3",
   "version": "3.8.16"
  },
  "vscode": {
   "interpreter": {
    "hash": "546c21d3de566120dda309d1397c5675600fd1cfea721af46f796ef4bbd56950"
   }
  }
 },
 "nbformat": 4,
 "nbformat_minor": 0
}
