{
 "cells": [
  {
   "attachments": {},
   "cell_type": "markdown",
   "metadata": {
    "id": "uRe8DWClD91s"
   },
   "source": [
    "<a href=\"https://colab.research.google.com/github/amanotk/numerical-geophysics/blob/main/notebook/LinearWaveEquation.ipynb\">\n",
    "<img src=\"https://colab.research.google.com/assets/colab-badge.svg\" alt=\"Open In Colab\">\n",
    "</a>\n",
    "\n",
    "# 線形波動方程式\n",
    "\n",
    "以下の線形波動方程式の数値解を差分法によって求める．\n",
    "$$\n",
    "\\frac{\\partial^2 f}{\\partial t^2} = c^2 \\frac{\\partial^2 f}{\\partial x^2}\n",
    "$$\n",
    "ここでは2階の微分方程式を\n",
    "$$\n",
    "\\begin{aligned}\n",
    "& \\frac{\\partial f}{\\partial t} + c \\frac{\\partial g}{\\partial x} = 0\n",
    "\\\\\n",
    "& \\frac{\\partial g}{\\partial t} + c \\frac{\\partial f}{\\partial x} = 0\n",
    "\\end{aligned}\n",
    "$$\n",
    "のように$(f, g)$の2変数の1階連立微分方程式に変形し，さらに\n",
    "$$\n",
    "\\begin{aligned}\n",
    "\\frac{\\partial}{\\partial t} (f + g) + c\n",
    "\\frac{\\partial}{\\partial x} (f + g) = 0\n",
    "\\\\\n",
    "\\frac{\\partial}{\\partial t} (f - g) - c\n",
    "\\frac{\\partial}{\\partial x} (f - g) = 0\n",
    "\\end{aligned}\n",
    "$$\n",
    "のように対角化した方程式を数値的に解く．  \n",
    "（簡単に確かめられるように，両式から$g$を消去すれば$f$に関する波動方程式が得られる．）\n",
    "\n",
    "以下では$c = 1$，$-1 \\leq x \\leq 1$とし，周期的境界条件を採用する．"
   ]
  },
  {
   "cell_type": "code",
   "execution_count": null,
   "metadata": {
    "executionInfo": {
     "elapsed": 7,
     "status": "ok",
     "timestamp": 1649152669304,
     "user": {
      "displayName": "Takanobu Amano",
      "userId": "09073760943970528850"
     },
     "user_tz": -540
    },
    "id": "VDF7pjnmHdkC"
   },
   "outputs": [],
   "source": [
    "# 準備\n",
    "import numpy as np\n",
    "import matplotlib as mpl\n",
    "from matplotlib import pyplot as plt\n",
    "\n",
    "# フォントサイズ\n",
    "plt.rcParams[\"font.size\"] = 14"
   ]
  },
  {
   "cell_type": "code",
   "execution_count": null,
   "metadata": {
    "executionInfo": {
     "elapsed": 7,
     "status": "ok",
     "timestamp": 1649152669304,
     "user": {
      "displayName": "Takanobu Amano",
      "userId": "09073760943970528850"
     },
     "user_tz": -540
    },
    "id": "0oPdKmiCJ70i"
   },
   "outputs": [],
   "source": [
    "# フォントサイズ\n",
    "plt.rcParams[\"font.size\"] = 14\n",
    "\n",
    "# 初期条件\n",
    "def set_initial(Nx, sigma, type=0):\n",
    "  \"初期条件を設定する\"\n",
    "  dx = 2/Nx\n",
    "  xx = (np.arange(Nx+2) - 0.5)*dx - 1\n",
    "  ff = np.exp(-0.5*xx**2/sigma**2)\n",
    "  if type == 0:\n",
    "    gg = np.zeros_like(ff)\n",
    "  if type == 1:\n",
    "    gg = ff.copy()\n",
    "  return xx, ff, gg"
   ]
  },
  {
   "attachments": {},
   "cell_type": "markdown",
   "metadata": {},
   "source": [
    "まずは初期条件として\n",
    "$$\n",
    "f(x) = \\exp \\left( - \\frac{x^2}{2 \\sigma^2} \\right), \\quad\n",
    "g(x) = 0\n",
    "$$\n",
    "を採用しよう．このときは左右に同じ振幅で波動が伝播する解が得られる．"
   ]
  },
  {
   "cell_type": "code",
   "execution_count": null,
   "metadata": {
    "colab": {
     "base_uri": "https://localhost:8080/",
     "height": 457
    },
    "executionInfo": {
     "elapsed": 956,
     "status": "ok",
     "timestamp": 1649152670254,
     "user": {
      "displayName": "Takanobu Amano",
      "userId": "09073760943970528850"
     },
     "user_tz": -540
    },
    "id": "-wR2ee5YYTIZ",
    "outputId": "9a3af895-1c24-4a4e-d948-dda38d9e901d"
   },
   "outputs": [],
   "source": [
    "def push_lw(f, g, nu, step):\n",
    "  \"Lax-Wendroffスキームによってstep数だけ時間更新する\"\n",
    "  Nx = np.size(f) - 2\n",
    "  ix = np.arange(1, Nx+1, dtype=np.int32)\n",
    "  # 特性変数に変換\n",
    "  u  = f + g\n",
    "  v  = f - g\n",
    "  for n in range(step):\n",
    "    # 更新\n",
    "    u[ix] = u[ix] - \\\n",
    "      0.5*nu*(u[ix+1] - u[ix-1]) + \\\n",
    "      0.5*nu**2*(u[ix+1] - 2*u[ix] + u[ix-1])\n",
    "    v[ix] = v[ix] + \\\n",
    "      0.5*nu*(v[ix+1] - v[ix-1]) + \\\n",
    "      0.5*nu**2*(v[ix+1] - 2*v[ix] + v[ix-1])\n",
    "    # 境界条件\n",
    "    u[   0] = u[Nx]\n",
    "    u[Nx+1] = u[ 1]\n",
    "    # 境界条件\n",
    "    v[   0] = v[Nx]\n",
    "    v[Nx+1] = v[ 1]\n",
    "  # 逆変換\n",
    "  f[:] = 0.5*(u + v)\n",
    "  g[:] = 0.5*(u - v)\n",
    "\n",
    "# パラメータ\n",
    "Nx = 100\n",
    "nu = 0.5\n",
    "dx = 2/Nx\n",
    "dt = nu * dx\n",
    "ix = np.arange(1, Nx+1)\n",
    "\n",
    "# 初期条件\n",
    "x, f, g = set_initial(Nx, 0.1)\n",
    "\n",
    "# プロット\n",
    "fig, axs = plt.subplots(figsize=(10, 6))\n",
    "step = 20\n",
    "for n in range(5):\n",
    "  plt.plot(x[ix], f[ix], label='t = {:5.3f}'.format(n*step*dt))\n",
    "  push_lw(f, g, nu, step)\n",
    "\n",
    "plt.xlim(-1.0, 1.0)\n",
    "plt.xlabel('x')\n",
    "plt.ylabel('f')\n",
    "plt.legend(loc='upper left', bbox_to_anchor=(1.0, 1.0))\n",
    "plt.suptitle('Lax-Wendroff')"
   ]
  },
  {
   "cell_type": "code",
   "execution_count": null,
   "metadata": {
    "colab": {
     "base_uri": "https://localhost:8080/",
     "height": 420
    },
    "executionInfo": {
     "elapsed": 9,
     "status": "ok",
     "timestamp": 1649152670255,
     "user": {
      "displayName": "Takanobu Amano",
      "userId": "09073760943970528850"
     },
     "user_tz": -540
    },
    "id": "AaVLzqvy1bOk",
    "outputId": "6f18bf12-b8eb-494c-a3b1-ed3218c18fa3"
   },
   "outputs": [],
   "source": [
    "## x-tの2次元プロット\n",
    "Nt = 50\n",
    "w  = np.zeros((Nt, Nx))\n",
    "x, u, v = set_initial(Nx, 0.1)\n",
    "\n",
    "fig, axs = plt.subplots(figsize=(10, 6))\n",
    "step = 5\n",
    "for n in range(Nt):\n",
    "  push_lw(u, v, nu, step)\n",
    "  w[n,:] = u[+1:-1]\n",
    "\n",
    "t = np.arange(Nt+1) * step*dt\n",
    "x = 0.5*(x[0:-1] + x[+1:])\n",
    "T, X = np.broadcast_arrays(t[:,None], x[None,:])\n",
    "plt.pcolormesh(X, T, w)\n",
    "plt.xlabel('x')\n",
    "plt.ylabel('t')"
   ]
  },
  {
   "attachments": {},
   "cell_type": "markdown",
   "metadata": {},
   "source": [
    "次に初期条件として\n",
    "$$\n",
    "f(x) = g(x) = \\exp \\left( - \\frac{x^2}{2 \\sigma^2} \\right), \\quad\n",
    "$$\n",
    "としてみよう．このときには右側のみに波動が伝播する．"
   ]
  },
  {
   "cell_type": "code",
   "execution_count": null,
   "metadata": {},
   "outputs": [],
   "source": [
    "def push_lw(u, v, nu, step):\n",
    "  \"Lax-Wendroffスキームによってstep数だけ時間更新する\"\n",
    "  Nx = np.size(u) - 2\n",
    "  ix = np.arange(1, Nx+1, dtype=np.int32)\n",
    "  # 特性変数に変換\n",
    "  f  = u + v\n",
    "  g  = u - v\n",
    "  for n in range(step):\n",
    "    # 更新\n",
    "    f[ix] = f[ix] - \\\n",
    "      0.5*nu*(f[ix+1] - f[ix-1]) + \\\n",
    "      0.5*nu**2*(f[ix+1] - 2*f[ix] + f[ix-1])\n",
    "    g[ix] = g[ix] + \\\n",
    "      0.5*nu*(g[ix+1] - g[ix-1]) + \\\n",
    "      0.5*nu**2*(g[ix+1] - 2*g[ix] + g[ix-1])\n",
    "    # 境界条件\n",
    "    f[   0] = f[Nx]\n",
    "    f[Nx+1] = f[ 1]\n",
    "    # 境界条件\n",
    "    g[   0] = g[Nx]\n",
    "    g[Nx+1] = g[ 1]\n",
    "  # 逆変換\n",
    "  u[:] = 0.5*(f + g)\n",
    "  v[:] = 0.5*(f - g)\n",
    "\n",
    "# パラメータ\n",
    "Nx = 100\n",
    "nu = 0.5\n",
    "dx = 2/Nx\n",
    "dt = nu * dx\n",
    "ix = np.arange(1, Nx+1)\n",
    "\n",
    "# 初期条件\n",
    "x, u, v = set_initial(Nx, 0.1)\n",
    "\n",
    "# プロット\n",
    "fig, axs = plt.subplots(figsize=(10, 6))\n",
    "step = 20\n",
    "for n in range(5):\n",
    "  plt.plot(x[ix], u[ix], label='t = {:5.3f}'.format(n*step*dt))\n",
    "  push_lw(u, v, nu, step)\n",
    "\n",
    "plt.xlim(-1.0, 1.0)\n",
    "plt.xlabel('x')\n",
    "plt.ylabel('u')\n",
    "plt.legend(loc='upper left', bbox_to_anchor=(1.0, 1.0))\n",
    "plt.suptitle('Lax-Wendroff')"
   ]
  },
  {
   "cell_type": "code",
   "execution_count": null,
   "metadata": {
    "executionInfo": {
     "elapsed": 6,
     "status": "ok",
     "timestamp": 1649152670255,
     "user": {
      "displayName": "Takanobu Amano",
      "userId": "09073760943970528850"
     },
     "user_tz": -540
    },
    "id": "T9Wqm1u0KKlh"
   },
   "outputs": [],
   "source": []
  }
 ],
 "metadata": {
  "colab": {
   "authorship_tag": "ABX9TyNh94D6R60+RQ9nwqYai6VU",
   "collapsed_sections": [],
   "name": "線形波動方程式.ipynb",
   "provenance": []
  },
  "kernelspec": {
   "display_name": "base",
   "language": "python",
   "name": "python3"
  },
  "language_info": {
   "codemirror_mode": {
    "name": "ipython",
    "version": 3
   },
   "file_extension": ".py",
   "mimetype": "text/x-python",
   "name": "python",
   "nbconvert_exporter": "python",
   "pygments_lexer": "ipython3",
   "version": "3.8.16"
  },
  "vscode": {
   "interpreter": {
    "hash": "546c21d3de566120dda309d1397c5675600fd1cfea721af46f796ef4bbd56950"
   }
  }
 },
 "nbformat": 4,
 "nbformat_minor": 0
}
