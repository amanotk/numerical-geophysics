{
 "cells": [
  {
   "attachments": {},
   "cell_type": "markdown",
   "metadata": {
    "id": "MDEyJIpwDv5P"
   },
   "source": [
    "<a href=\"https://colab.research.google.com/github/amanotk/numerical-geophysics/blob/main/notebook/vonNeumannStabilityAnalysis.ipynb\">\n",
    "<img src=\"https://colab.research.google.com/assets/colab-badge.svg\" alt=\"Open In Colab\">\n",
    "</a>\n",
    "\n",
    "# von Neumannの安定性解析\n",
    "\n",
    "線形波動方程式\n",
    "$$\n",
    "\\frac{\\partial u}{\\partial t} + c \\frac{\\partial u}{\\partial x} = 0\n",
    "$$\n",
    "を解く種々の数値計算スキームについてvon Neumannの安定性解析によって得られた複素増幅率$g$の$\\theta = k \\Delta x$依存性を調べる．具体的には\n",
    "$$\n",
    "g = |g| \\exp(i\\phi)\n",
    "$$\n",
    "と書いたときの増幅率の絶対値$|g|/|g|_{\\rm exact}$および位相誤差$\\phi/\\phi_{\\rm exact}$の$\\theta$および$\\nu$依存性を調べる．ここで$\\nu = c \\Delta t/\\Delta x$はCourant数．\n",
    "\n",
    "なお，線形移流方程式の解析解は$|g|_{\\rm exact} = 1$，$\\phi_{\\rm exact} = -\\pi \\nu$である．"
   ]
  },
  {
   "cell_type": "code",
   "execution_count": null,
   "metadata": {
    "executionInfo": {
     "elapsed": 5,
     "status": "ok",
     "timestamp": 1649165729237,
     "user": {
      "displayName": "Takanobu Amano",
      "userId": "09073760943970528850"
     },
     "user_tz": -540
    },
    "id": "7PTHqOEiDjuN"
   },
   "outputs": [],
   "source": [
    "import numpy as np\n",
    "import matplotlib as mpl\n",
    "from matplotlib import pyplot as plt"
   ]
  },
  {
   "cell_type": "code",
   "execution_count": null,
   "metadata": {
    "executionInfo": {
     "elapsed": 5,
     "status": "ok",
     "timestamp": 1649165729238,
     "user": {
      "displayName": "Takanobu Amano",
      "userId": "09073760943970528850"
     },
     "user_tz": -540
    },
    "id": "jL3C3KngJypf"
   },
   "outputs": [],
   "source": [
    "plt.rcParams[\"font.size\"] = 14"
   ]
  },
  {
   "cell_type": "markdown",
   "metadata": {
    "id": "poFxt-R7EAiW"
   },
   "source": [
    "## FTCSスキーム\n",
    "\n",
    "$$\n",
    "g = 1 - j \\nu \\sin \\theta\n",
    "$$"
   ]
  },
  {
   "cell_type": "code",
   "execution_count": null,
   "metadata": {
    "colab": {
     "base_uri": "https://localhost:8080/",
     "height": 459
    },
    "executionInfo": {
     "elapsed": 1123,
     "status": "ok",
     "timestamp": 1649165730356,
     "user": {
      "displayName": "Takanobu Amano",
      "userId": "09073760943970528850"
     },
     "user_tz": -540
    },
    "id": "3Vk5JbdNDp5F",
    "outputId": "e941db3f-0fdc-4756-a9cb-1f672bc567ba"
   },
   "outputs": [],
   "source": [
    "# FTCSスキーム\n",
    "def ftcs(nu, kdx):\n",
    "  return 1 - 1j * nu * np.sin(kdx)\n",
    "\n",
    "kdx = np.linspace(0.01, np.pi, 100)\n",
    "nu  = np.array([0.25, 0.50, 0.75, 1.00])\n",
    "\n",
    "# プロット\n",
    "fig, axs = plt.subplots(2, 1, figsize=(10, 6))\n",
    "\n",
    "for i in range(len(nu)):\n",
    "  g = ftcs(nu[i], kdx)\n",
    "  g_amp   = np.abs(g)\n",
    "  g_phase = np.angle(g) / (-nu[i]*kdx)\n",
    "  axs[0].plot(kdx/np.pi, g_amp, label=r'$\\nu = {:4.2f}$'.format(nu[i]))\n",
    "  axs[1].plot(kdx/np.pi, g_phase, label=r'$\\nu = {:4.2f}$'.format(nu[i]))\n",
    "\n",
    "for ax in axs:\n",
    "  ax.legend(loc='upper left', bbox_to_anchor=(1.0, 1.0))\n",
    "  ax.set_xlim(0.0, 1.0)\n",
    "  ax.grid()\n",
    "\n",
    "axs[0].set_ylabel(r'$|g|/|g|_{\\rm{exact}}$')\n",
    "axs[1].set_ylabel(r'$\\phi/\\phi_{\\rm{exact}}$')\n",
    "axs[1].set_xlabel(r'$k \\Delta x/\\pi$')\n",
    "plt.suptitle('FTCS')"
   ]
  },
  {
   "cell_type": "markdown",
   "metadata": {
    "id": "ycg5Y9lSKqD5"
   },
   "source": [
    "## 1次精度風上差分\n",
    "\n",
    "$$\n",
    "g = 1 - \\nu \\left[ (1 - \\cos \\theta) + j \\sin \\theta \\right]\n",
    "$$"
   ]
  },
  {
   "cell_type": "code",
   "execution_count": null,
   "metadata": {
    "colab": {
     "base_uri": "https://localhost:8080/",
     "height": 459
    },
    "executionInfo": {
     "elapsed": 674,
     "status": "ok",
     "timestamp": 1649165731026,
     "user": {
      "displayName": "Takanobu Amano",
      "userId": "09073760943970528850"
     },
     "user_tz": -540
    },
    "id": "Rszs9NHDJc5V",
    "outputId": "ac2ab9ff-c791-42b6-d10d-8c53b28bcfa1"
   },
   "outputs": [],
   "source": [
    "# 1次精度風上差分\n",
    "def upwind(nu, kdx):\n",
    "  return 1 - nu * ( (1 - np.cos(kdx)) + 1j*np.sin(kdx) )\n",
    "\n",
    "kdx = np.linspace(0.01, np.pi, 100)\n",
    "nu  = np.array([0.30, 0.60, 0.90])\n",
    "\n",
    "# プロット\n",
    "fig, axs = plt.subplots(2, 1, figsize=(10, 6))\n",
    "\n",
    "for i in range(len(nu)):\n",
    "  g = upwind(nu[i], kdx)\n",
    "  g_amp   = np.abs(g)\n",
    "  g_phase = np.angle(g) / (-nu[i]*kdx)\n",
    "  axs[0].plot(kdx/np.pi, g_amp, label=r'$\\nu = {:4.2f}$'.format(nu[i]))\n",
    "  axs[1].plot(kdx/np.pi, g_phase, label=r'$\\nu = {:4.2f}$'.format(nu[i]))\n",
    "\n",
    "for ax in axs:\n",
    "  ax.legend(loc='upper left', bbox_to_anchor=(1.0, 1.0))\n",
    "  ax.set_xlim(0.0, 1.0)\n",
    "  ax.grid()\n",
    "\n",
    "axs[0].set_ylabel(r'$|g|/|g|_{\\rm{exact}}$')\n",
    "axs[1].set_ylabel(r'$\\phi/\\phi_{\\rm{exact}}$')\n",
    "axs[1].set_xlabel(r'$k \\Delta x/\\pi$')\n",
    "plt.suptitle('First-order Upwind')"
   ]
  },
  {
   "cell_type": "markdown",
   "metadata": {
    "id": "LcA9AcasNNC3"
   },
   "source": [
    "## Lax-Friedrichs\n",
    "\n",
    "$$\n",
    "g = \\cos \\theta - j \\nu \\sin \\theta\n",
    "$$"
   ]
  },
  {
   "cell_type": "code",
   "execution_count": null,
   "metadata": {
    "colab": {
     "base_uri": "https://localhost:8080/",
     "height": 459
    },
    "executionInfo": {
     "elapsed": 685,
     "status": "ok",
     "timestamp": 1649165731705,
     "user": {
      "displayName": "Takanobu Amano",
      "userId": "09073760943970528850"
     },
     "user_tz": -540
    },
    "id": "zMaQHjbSLJ9z",
    "outputId": "22aa0c33-149f-4fec-e5fe-6f996b49b098"
   },
   "outputs": [],
   "source": [
    "# Lax-Friedrichs\n",
    "def lh(nu, kdx):\n",
    "  return np.cos(kdx) - 1j*nu * np.sin(kdx)\n",
    "\n",
    "kdx = np.linspace(0.01, np.pi, 100)\n",
    "nu  = np.array([0.25, 0.50, 0.75, 1.00])\n",
    "\n",
    "# プロット\n",
    "fig, axs = plt.subplots(2, 1, figsize=(10, 6))\n",
    "\n",
    "for i in range(len(nu)):\n",
    "  g = lh(nu[i], kdx)\n",
    "  g_amp   = np.abs(g)\n",
    "  g_phase = np.angle(g) / (-nu[i]*kdx)\n",
    "  axs[0].plot(kdx/np.pi, g_amp, label=r'$\\nu = {:4.2f}$'.format(nu[i]))\n",
    "  axs[1].plot(kdx/np.pi, g_phase, label=r'$\\nu = {:4.2f}$'.format(nu[i]))\n",
    "\n",
    "for ax in axs:\n",
    "  ax.legend(loc='upper left', bbox_to_anchor=(1.0, 1.0))\n",
    "  ax.set_xlim(0.0, 1.0)\n",
    "  ax.grid()\n",
    "\n",
    "axs[0].set_ylabel(r'$|g|/|g|_{\\rm{exact}}$')\n",
    "axs[1].set_ylabel(r'$\\phi/\\phi_{\\rm{exact}}$')\n",
    "axs[1].set_xlabel(r'$k \\Delta x/\\pi$')\n",
    "plt.suptitle('Lax-Friedrichs')"
   ]
  },
  {
   "cell_type": "markdown",
   "metadata": {
    "id": "q1zcL4NiN2hP"
   },
   "source": [
    "## Lax-Wendroff\n",
    "\n",
    "$$\n",
    "g = 1 - \\nu^2 (1 - \\cos \\theta) - j \\nu \\sin \\theta\n",
    "$$\n"
   ]
  },
  {
   "cell_type": "code",
   "execution_count": null,
   "metadata": {
    "colab": {
     "base_uri": "https://localhost:8080/",
     "height": 459
    },
    "executionInfo": {
     "elapsed": 572,
     "status": "ok",
     "timestamp": 1649165732272,
     "user": {
      "displayName": "Takanobu Amano",
      "userId": "09073760943970528850"
     },
     "user_tz": -540
    },
    "id": "hUcRqwHvNcGq",
    "outputId": "00b17912-46af-44c8-bb3f-db990d781735"
   },
   "outputs": [],
   "source": [
    "# Lax-Wendroff\n",
    "def lw(nu, kdx):\n",
    "  return 1 - nu**2 * (1 - np.cos(kdx)) - 1j*nu * np.sin(kdx)\n",
    "\n",
    "kdx = np.linspace(0.01, np.pi, 100)\n",
    "nu  = np.array([0.25, 0.50, 0.75, 1.00])\n",
    "\n",
    "# プロット\n",
    "fig, axs = plt.subplots(2, 1, figsize=(10, 6))\n",
    "\n",
    "for i in range(len(nu)):\n",
    "  g = lw(nu[i], kdx)\n",
    "  g_amp   = np.abs(g)\n",
    "  g_phase = np.angle(g) / (-nu[i]*kdx)\n",
    "  axs[0].plot(kdx/np.pi, g_amp, label=r'$\\nu = {:4.2f}$'.format(nu[i]))\n",
    "  axs[1].plot(kdx/np.pi, g_phase, label=r'$\\nu = {:4.2f}$'.format(nu[i]))\n",
    "\n",
    "for ax in axs:\n",
    "  ax.legend(loc='upper left', bbox_to_anchor=(1.0, 1.0))\n",
    "  ax.set_xlim(0.0, 1.0)\n",
    "  ax.grid()\n",
    "\n",
    "axs[0].set_ylabel(r'$|g|/|g|_{\\rm{exact}}$')\n",
    "axs[1].set_ylabel(r'$\\phi/\\phi_{\\rm{exact}}$')\n",
    "axs[1].set_xlabel(r'$k \\Delta x/\\pi$')\n",
    "plt.suptitle('Lax-Wendroff')"
   ]
  },
  {
   "cell_type": "code",
   "execution_count": null,
   "metadata": {
    "executionInfo": {
     "elapsed": 6,
     "status": "ok",
     "timestamp": 1649165732273,
     "user": {
      "displayName": "Takanobu Amano",
      "userId": "09073760943970528850"
     },
     "user_tz": -540
    },
    "id": "o30zGfuoOJGz"
   },
   "outputs": [],
   "source": []
  }
 ],
 "metadata": {
  "colab": {
   "authorship_tag": "ABX9TyPs7YwYXOAqR9MS2Xr2NjYM",
   "name": "von Neumannの安定性解析.ipynb",
   "provenance": []
  },
  "kernelspec": {
   "display_name": "base",
   "language": "python",
   "name": "python3"
  },
  "language_info": {
   "codemirror_mode": {
    "name": "ipython",
    "version": 3
   },
   "file_extension": ".py",
   "mimetype": "text/x-python",
   "name": "python",
   "nbconvert_exporter": "python",
   "pygments_lexer": "ipython3",
   "version": "3.8.12"
  },
  "vscode": {
   "interpreter": {
    "hash": "546c21d3de566120dda309d1397c5675600fd1cfea721af46f796ef4bbd56950"
   }
  }
 },
 "nbformat": 4,
 "nbformat_minor": 0
}
