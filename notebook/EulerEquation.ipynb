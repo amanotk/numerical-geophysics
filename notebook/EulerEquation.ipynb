{
 "cells": [
  {
   "attachments": {},
   "cell_type": "markdown",
   "metadata": {
    "id": "uRe8DWClD91s"
   },
   "source": [
    "<a href=\"https://colab.research.google.com/github/amanotk/numerical-geophysics/blob/main/notebook/EulerEquation.ipynb\">\n",
    "<img src=\"https://colab.research.google.com/assets/colab-badge.svg\" alt=\"Open In Colab\">\n",
    "</a>\n",
    "\n",
    "# Euler方程式\n",
    "\n",
    "Euler方程式（圧縮性流体方程式）の数値解を求める．\n",
    "$$\n",
    "\\frac{\\partial}{\\partial t}\n",
    "\\begin{pmatrix}\n",
    "\\rho \\\\ \\rho v \\\\ \\varepsilon\n",
    "\\end{pmatrix} +\n",
    "\\frac{\\partial}{\\partial x}\n",
    "\\begin{pmatrix}\n",
    "\\rho v \\\\ \\rho v^2 + p \\\\ (\\varepsilon + p) v\n",
    "\\end{pmatrix} = 0\n",
    "$$\n",
    "ここで\n",
    "$$\n",
    "\\varepsilon = \\frac{1}{2} \\rho v^2 + \\frac{p}{\\gamma-1}\n",
    "$$\n",
    "は流体の全エネルギー密度である．"
   ]
  },
  {
   "cell_type": "code",
   "execution_count": null,
   "metadata": {
    "executionInfo": {
     "elapsed": 7,
     "status": "ok",
     "timestamp": 1649597599116,
     "user": {
      "displayName": "Takanobu Amano",
      "userId": "09073760943970528850"
     },
     "user_tz": -540
    },
    "id": "VDF7pjnmHdkC"
   },
   "outputs": [],
   "source": [
    "# 準備\n",
    "import numpy as np\n",
    "import matplotlib as mpl\n",
    "from matplotlib import pyplot as plt"
   ]
  },
  {
   "cell_type": "code",
   "execution_count": null,
   "metadata": {
    "executionInfo": {
     "elapsed": 6,
     "status": "ok",
     "timestamp": 1649597599117,
     "user": {
      "displayName": "Takanobu Amano",
      "userId": "09073760943970528850"
     },
     "user_tz": -540
    },
    "id": "JCIDgckKJ2dC"
   },
   "outputs": [],
   "source": [
    "# フォントサイズ\n",
    "plt.rcParams[\"font.size\"] = 14"
   ]
  },
  {
   "cell_type": "code",
   "execution_count": null,
   "metadata": {
    "executionInfo": {
     "elapsed": 6,
     "status": "ok",
     "timestamp": 1649597599118,
     "user": {
      "displayName": "Takanobu Amano",
      "userId": "09073760943970528850"
     },
     "user_tz": -540
    },
    "id": "pVsa608MomOM"
   },
   "outputs": [],
   "source": [
    "def push_lw2(uu, gamma, dt, dx, step, epsilon):\n",
    "  \"2段階Lax-Wendroffスキーム\"\n",
    "  dtx = dt/dx\n",
    "  Nx = np.shape(uu)[0] - 2\n",
    "  ix = np.arange(1, Nx+1, dtype=np.int32)\n",
    "  hx = np.arange(0, Nx+1, dtype=np.int32) # i+1/2\n",
    "  uh = np.zeros_like(uu)\n",
    "  fx = np.zeros_like(uu)\n",
    "  for n in range(step):\n",
    "    # 1段階目\n",
    "    ro = uu[:,0]\n",
    "    vx = uu[:,1]/(ro + 1.0e-20)\n",
    "    pr = (gamma - 1)*(uu[:,2] - 0.5*ro*vx**2)\n",
    "    fx[:,0] = ro*vx\n",
    "    fx[:,1] = ro*vx*vx + pr\n",
    "    fx[:,2] = (0.5*ro*vx*vx + gamma/(gamma-1)*pr)*vx\n",
    "    uh[hx,:] = 0.5*((uu[hx+1,:] + uu[hx,:]) - dtx*(fx[hx+1,:] - fx[hx,:]))\n",
    "    # 人工粘性の係数を決定\n",
    "    kappa = 1/dtx*epsilon*np.abs(vx[hx+1] - vx[hx])[:,None]\n",
    "    # 2段階目\n",
    "    ro = uh[:,0]\n",
    "    vx = uh[:,1]/(ro + 1.0e-20)\n",
    "    pr = (gamma - 1)*(uh[:,2] - 0.5*ro*vx**2)\n",
    "    fx[:,0] = ro*vx\n",
    "    fx[:,1] = ro*vx*vx + pr\n",
    "    fx[:,2] = (0.5*ro*vx*vx + gamma/(gamma-1)*pr)*vx\n",
    "    fx[hx,:] = fx[hx,:] - kappa*(uu[hx+1,:] - uu[hx,:])\n",
    "    uu[ix,:] = uu[ix,:] - dtx*(fx[ix,:] - fx[ix-1,:])\n",
    "    # 境界条件\n",
    "    uu[   0,:] = uu[Nx,:]\n",
    "    uu[Nx+1,:] = uu[ 1,:]"
   ]
  },
  {
   "cell_type": "markdown",
   "metadata": {
    "id": "DWwuvYX5DjV0"
   },
   "source": [
    "## 音波の伝播\n",
    "\n",
    "エントロピー$S = p/\\rho^{\\gamma}$が一定のとき\n",
    "$$\n",
    "\\frac{\\partial}{\\partial t} J_{\\pm} + (v \\pm C_s)\n",
    "\\frac{\\partial}{\\partial x} J_{\\pm} = 0\n",
    "\\quad\n",
    "\\left( J_{\\pm} = v \\pm \\frac{2 C_s}{\\gamma-1} \\right)\n",
    "$$\n",
    "が成り立つ．\n",
    "したがって，エントロピーおよび$J_{-}$が一定の初期条件を選ぶことで，正方向に伝播する音波のみを考えることができる．\n",
    "\n",
    "ここでは計算領域を$0 \\leq x \\leq 1$とし，初期条件\n",
    "$$\n",
    "\\begin{align}\n",
    "&\\rho = \\rho_0 + \\rho_1 \\sin \\left( 2 \\pi x \\right)\n",
    "\\\\\n",
    "&v = \\frac{2 C_{s,0}}{\\gamma-1}\n",
    "\\left[\n",
    "  \\left( 1 + \\frac{\\rho_1}{\\rho_0} \\sin (2 \\pi x) \\right)^{(\\gamma-1)/2}\n",
    "  - 1\n",
    "\\right]\n",
    "\\\\\n",
    "&p = p_0\n",
    "\\left(\n",
    "  1 + \\frac{\\rho_1}{\\rho_0} \\sin (2 \\pi x)\n",
    "\\right)^{\\gamma}\n",
    "\\end{align}\n",
    "$$\n",
    "を考えよう．ただし$\\rho_0 = 1$, $p_0 = 1/\\gamma$, $C_{s,0} = (\\gamma p_0/\\rho_0)^{1/2}$, $\\gamma = 5/3$とする．  \n",
    "このとき$S = const$，$J_{-} = const$となることは簡単に確かめられる．  \n",
    "\n",
    "音波の振幅$\\rho_1$が十分小さければ，ゆらぎは線形の音波として伝播するが，有限振幅では急峻化によって衝撃波が形成する．（衝撃波が形成すると散逸によってエントロピーが生成されるので$J_{-}$も一定ではなくなる．）"
   ]
  },
  {
   "cell_type": "code",
   "execution_count": null,
   "metadata": {
    "colab": {
     "base_uri": "https://localhost:8080/",
     "height": 635
    },
    "executionInfo": {
     "elapsed": 1763,
     "status": "ok",
     "timestamp": 1649597600875,
     "user": {
      "displayName": "Takanobu Amano",
      "userId": "09073760943970528850"
     },
     "user_tz": -540
    },
    "id": "aXL7KLmWDmNi",
    "outputId": "19ec21fd-62e7-4059-ff8c-653db6923e57"
   },
   "outputs": [],
   "source": [
    "def set_initial(Nx, gamma, delta):\n",
    "  dx = 1.0/Nx\n",
    "  xx = dx*np.arange(Nx+2) - 0.5*dx\n",
    "  uu = np.zeros((Nx+2, 3))\n",
    "  ro = 1 + delta * np.sin(2*np.pi*xx)\n",
    "  vx = 2/(gamma-1) * (ro**((gamma-1)/2) - 1)\n",
    "  pr = ro**gamma / gamma\n",
    "  uu[:,0] = ro\n",
    "  uu[:,1] = ro*vx\n",
    "  uu[:,2] = 0.5*ro*vx**2 + pr/(gamma-1)\n",
    "  return xx, dx, uu\n",
    "\n",
    "def push_lw2(uu, gamma, dt, dx, step, epsilon):\n",
    "  \"2段階Lax-Wendroffスキーム\"\n",
    "  dtx = dt/dx\n",
    "  Nx = np.shape(uu)[0] - 2\n",
    "  ix = np.arange(1, Nx+1, dtype=np.int32)\n",
    "  hx = np.arange(0, Nx+1, dtype=np.int32) # i+1/2\n",
    "  uh = np.zeros_like(uu)\n",
    "  fx = np.zeros_like(uu)\n",
    "  for n in range(step):\n",
    "    # 1段階目\n",
    "    ro = uu[:,0]\n",
    "    vx = uu[:,1]/(ro + 1.0e-20)\n",
    "    pr = (gamma - 1)*(uu[:,2] - 0.5*ro*vx**2)\n",
    "    fx[:,0] = ro*vx\n",
    "    fx[:,1] = ro*vx*vx + pr\n",
    "    fx[:,2] = (0.5*ro*vx*vx + gamma/(gamma-1)*pr)*vx\n",
    "    uh[hx,:] = 0.5*((uu[hx+1,:] + uu[hx,:]) - dtx*(fx[hx+1,:] - fx[hx,:]))\n",
    "    # 人工粘性の係数を決定\n",
    "    kappa = 1/dtx*epsilon*np.abs(vx[hx+1] - vx[hx])[:,None]\n",
    "    # 2段階目\n",
    "    ro = uh[:,0]\n",
    "    vx = uh[:,1]/(ro + 1.0e-20)\n",
    "    pr = (gamma - 1)*(uh[:,2] - 0.5*ro*vx**2)\n",
    "    fx[:,0] = ro*vx\n",
    "    fx[:,1] = ro*vx*vx + pr\n",
    "    fx[:,2] = (0.5*ro*vx*vx + gamma/(gamma-1)*pr)*vx\n",
    "    fx[hx,:] = fx[hx,:] - kappa*(uu[hx+1,:] - uu[hx,:])\n",
    "    uu[ix,:] = uu[ix,:] - dtx*(fx[ix,:] - fx[ix-1,:])\n",
    "    # 境界条件\n",
    "    uu[   0,:] = uu[Nx,:]\n",
    "    uu[Nx+1,:] = uu[ 1,:]\n",
    "\n",
    "# 振幅 delta = rho_1/rho_0\n",
    "delta = 5.0e-2\n",
    "\n",
    "# パラメータ\n",
    "gamma   = 5.0/3.0\n",
    "epsilon = 1.0e-1\n",
    "Nx      = 100\n",
    "nu      = 0.25\n",
    "ix      = np.arange(1, Nx+1)\n",
    "\n",
    "# 初期条件\n",
    "xx, dx, uu = set_initial(Nx, gamma, delta)\n",
    "dt = nu*dx\n",
    "\n",
    "# プロット\n",
    "fig, axs = plt.subplots(4, 1, figsize=(10, 10))\n",
    "\n",
    "step = 40\n",
    "for n in range(5):\n",
    "  ro = uu[:,0]\n",
    "  vx = uu[:,1]/(ro + 1.0e-20)\n",
    "  pr = (gamma - 1)*(uu[:,2] - 0.5*ro*vx**2)\n",
    "  Jp = vx + np.sqrt(gamma*pr/ro) * 2/(gamma-1)\n",
    "  Jm = vx - np.sqrt(gamma*pr/ro) * 2/(gamma-1)\n",
    "  axs[0].plot(xx[ix], ro[ix], label='t = {:4.2f}'.format(n*step*dt))\n",
    "  axs[1].plot(xx[ix], vx[ix], label='t = {:4.2f}'.format(n*step*dt))\n",
    "  axs[2].plot(xx[ix], Jp[ix], label='t = {:4.2f}'.format(n*step*dt))\n",
    "  axs[3].plot(xx[ix], Jm[ix], label='t = {:4.2f}'.format(n*step*dt))\n",
    "  push_lw2(uu, gamma, dt, dx, step, epsilon)\n",
    "\n",
    "axs[0].set_title(r'$\\rho_1/\\rho_0 = {:8.1e}$'.format(delta))\n",
    "axs[0].set_ylabel(r'$\\rho$')\n",
    "axs[0].set_ylim(1 - 1.5*delta, 1 + 1.5*delta)\n",
    "axs[1].set_ylabel(r'$v$')\n",
    "axs[1].set_ylim(-1.5*delta, 1.5*delta)\n",
    "axs[2].set_ylabel(r'$J_{+}$')\n",
    "axs[2].set_ylim(+3*(1 + delta), +3*(1 - delta))\n",
    "axs[3].set_ylabel(r'$J_{-}$')\n",
    "axs[3].set_ylim(-3*(1 + delta), -3*(1 - delta))\n",
    "axs[3].set_xlabel('x')\n",
    "axs[0].legend(loc='upper left', bbox_to_anchor=(1.01, 1.0))\n",
    "\n",
    "for ax in axs:\n",
    "  ax.set_xlim(0.0, 1.0)"
   ]
  },
  {
   "cell_type": "markdown",
   "metadata": {
    "id": "8rDn1zXro3Wt"
   },
   "source": [
    "## Riemann問題（衝撃波管問題）\n",
    "\n",
    "初期条件として\n",
    "$$\n",
    "(\\rho, v, p)\n",
    "=\n",
    "\\begin{cases}\n",
    "(\\rho_L, v_L, p_L) \\quad x < 0\n",
    "\\\\\n",
    "(\\rho_R, v_R, p_R) \\quad x > 0\n",
    "\\end{cases}\n",
    "$$\n",
    "のように，$x = 0$で異なる流体が接しているときの時間発展を考える．\n",
    "\n",
    "ここでは\n",
    "$$\n",
    "(\\rho_L, v_L, p_L) = (1, 0, 1), \\quad\n",
    "(\\rho_R, v_R, p_R) = (0.125, 0, 0.1)\n",
    "$$\n",
    "かつ$\\gamma = 1.4$の場合を考えよう．  \n",
    "これは\"Sod's Problem\"として知られる衝撃波管の最も一般的なテスト問題である．\n",
    "\n",
    "計算領域は$-1 \\leq x \\leq 1$，境界条件はどちらも$\\partial/\\partial x = 0$とする．"
   ]
  },
  {
   "cell_type": "code",
   "execution_count": null,
   "metadata": {
    "colab": {
     "base_uri": "https://localhost:8080/",
     "height": 416
    },
    "executionInfo": {
     "elapsed": 1072,
     "status": "ok",
     "timestamp": 1649597601932,
     "user": {
      "displayName": "Takanobu Amano",
      "userId": "09073760943970528850"
     },
     "user_tz": -540
    },
    "id": "sk2oCexCo4JH",
    "outputId": "0dcd1f3a-7ba9-4f60-8a02-df3ec02d1a08"
   },
   "outputs": [],
   "source": [
    "def set_initial(Nx, gamma, delta):\n",
    "  dx = 2.0/Nx\n",
    "  xx = dx*np.arange(Nx+2) - (1 + 0.5*dx)\n",
    "  uu = np.zeros((Nx+2, 3))\n",
    "  ro = np.where(xx < 0, 1.0, 0.125)\n",
    "  vx = np.where(xx < 0, 0.0, 0.0)\n",
    "  pr = np.where(xx < 0, 1.0, 0.1)\n",
    "  uu[:,0] = ro\n",
    "  uu[:,1] = ro*vx\n",
    "  uu[:,2] = 0.5*ro*vx**2 + pr/(gamma-1)\n",
    "  return xx, dx, uu\n",
    "\n",
    "def push_lw2(uu, gamma, dt, dx, step, epsilon):\n",
    "  \"2段階Lax-Wendroffスキーム\"\n",
    "  dtx = dt/dx\n",
    "  Nx = np.shape(uu)[0] - 2\n",
    "  ix = np.arange(1, Nx+1, dtype=np.int32)\n",
    "  hx = np.arange(0, Nx+1, dtype=np.int32) # i+1/2\n",
    "  uh = np.zeros_like(uu)\n",
    "  fx = np.zeros_like(uu)\n",
    "  for n in range(step):\n",
    "    # 1段階目\n",
    "    ro = uu[:,0]\n",
    "    vx = uu[:,1]/(ro + 1.0e-20)\n",
    "    pr = (gamma - 1)*(uu[:,2] - 0.5*ro*vx**2)\n",
    "    fx[:,0] = ro*vx\n",
    "    fx[:,1] = ro*vx*vx + pr\n",
    "    fx[:,2] = (0.5*ro*vx*vx + gamma/(gamma-1)*pr)*vx\n",
    "    uh[hx,:] = 0.5*((uu[hx+1,:] + uu[hx,:]) - dtx*(fx[hx+1,:] - fx[hx,:]))\n",
    "    # 人工粘性の係数を決定\n",
    "    kappa = 1/dtx*epsilon*np.abs(vx[hx+1] - vx[hx])[:,None]\n",
    "    # 2段階目\n",
    "    ro = uh[:,0]\n",
    "    vx = uh[:,1]/(ro + 1.0e-20)\n",
    "    pr = (gamma - 1)*(uh[:,2] - 0.5*ro*vx**2)\n",
    "    fx[:,0] = ro*vx\n",
    "    fx[:,1] = ro*vx*vx + pr\n",
    "    fx[:,2] = (0.5*ro*vx*vx + gamma/(gamma-1)*pr)*vx\n",
    "    fx[hx,:] = fx[hx,:] - kappa*(uu[hx+1,:] - uu[hx,:])\n",
    "    uu[ix,:] = uu[ix,:] - dtx*(fx[ix,:] - fx[ix-1,:])\n",
    "    # 境界条件\n",
    "    uu[   0,:] = uu[ 1,:]\n",
    "    uu[Nx+1,:] = uu[Nx,:]\n",
    "\n",
    "\n",
    "\n",
    "# パラメータ\n",
    "gamma   = 1.4\n",
    "epsilon = 5.0e-1\n",
    "Nx      = 200\n",
    "nu      = 0.25\n",
    "ix      = np.arange(1, Nx+1)\n",
    "\n",
    "# 初期条件\n",
    "xx, dx, uu = set_initial(Nx, gamma, delta)\n",
    "dt = nu*dx\n",
    "\n",
    "# プロット\n",
    "fig, axs = plt.subplots(1, 1, figsize=(8, 6))\n",
    "\n",
    "# 初期条件\n",
    "ro = uu[:,0]\n",
    "vx = uu[:,1]/(ro + 1.0e-20)\n",
    "pr = (gamma - 1)*(uu[:,2] - 0.5*ro*vx**2)\n",
    "plt.plot(xx[ix], ro[ix], 'k--')\n",
    "plt.plot(xx[ix], vx[ix], 'r--')\n",
    "plt.plot(xx[ix], pr[ix], 'b--')\n",
    "\n",
    "step = int(0.40 / dt)\n",
    "push_lw2(uu, gamma, dt, dx, step, epsilon)\n",
    "ro = uu[:,0]\n",
    "vx = uu[:,1]/(ro + 1.0e-20)\n",
    "pr = (gamma - 1)*(uu[:,2] - 0.5*ro*vx**2)\n",
    "plt.plot(xx[ix], ro[ix], 'k-', label='density')\n",
    "plt.plot(xx[ix], vx[ix], 'r-', label='velocity')\n",
    "plt.plot(xx[ix], pr[ix], 'b-', label='pressure')\n",
    "\n",
    "plt.xlim(-1.0, 1.0)\n",
    "plt.title(r'$t = {:4.2f}$'.format(step*dt))\n",
    "plt.legend(loc='upper left', bbox_to_anchor=(1.0, 1.0))"
   ]
  },
  {
   "cell_type": "code",
   "execution_count": null,
   "metadata": {
    "executionInfo": {
     "elapsed": 7,
     "status": "ok",
     "timestamp": 1649597601933,
     "user": {
      "displayName": "Takanobu Amano",
      "userId": "09073760943970528850"
     },
     "user_tz": -540
    },
    "id": "gLipqoWZsPvh"
   },
   "outputs": [],
   "source": []
  }
 ],
 "metadata": {
  "colab": {
   "authorship_tag": "ABX9TyNAQtXUuidz+r5TKEFrPDQz",
   "collapsed_sections": [],
   "name": "Euler方程式.ipynb",
   "provenance": []
  },
  "kernelspec": {
   "display_name": "base",
   "language": "python",
   "name": "python3"
  },
  "language_info": {
   "codemirror_mode": {
    "name": "ipython",
    "version": 3
   },
   "file_extension": ".py",
   "mimetype": "text/x-python",
   "name": "python",
   "nbconvert_exporter": "python",
   "pygments_lexer": "ipython3",
   "version": "3.8.12"
  },
  "vscode": {
   "interpreter": {
    "hash": "546c21d3de566120dda309d1397c5675600fd1cfea721af46f796ef4bbd56950"
   }
  }
 },
 "nbformat": 4,
 "nbformat_minor": 0
}
