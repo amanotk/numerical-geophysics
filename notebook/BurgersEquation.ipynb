{
 "cells": [
  {
   "attachments": {},
   "cell_type": "markdown",
   "metadata": {
    "id": "uRe8DWClD91s"
   },
   "source": [
    "<a href=\"https://colab.research.google.com/github/amanotk/numerical-geophysics/blob/main/notebook/BurgesEquation.ipynb\">\n",
    "<img src=\"https://colab.research.google.com/assets/colab-badge.svg\" alt=\"Open In Colab\">\n",
    "</a>\n",
    "\n",
    "# Burgers方程式\n",
    "\n",
    "以下のBurgers方程式の数値解を差分法によって求める．\n",
    "$$\n",
    "\\frac{\\partial u}{\\partial t} + u \\frac{\\partial u}{\\partial x} =\n",
    "\\alpha \\frac{\\partial^2 u}{\\partial x^2}\n",
    "$$"
   ]
  },
  {
   "cell_type": "code",
   "execution_count": null,
   "metadata": {
    "executionInfo": {
     "elapsed": 5,
     "status": "ok",
     "timestamp": 1650848687486,
     "user": {
      "displayName": "Takanobu Amano",
      "userId": "09073760943970528850"
     },
     "user_tz": -540
    },
    "id": "VDF7pjnmHdkC"
   },
   "outputs": [],
   "source": [
    "# 準備\n",
    "import numpy as np\n",
    "import matplotlib as mpl\n",
    "from matplotlib import pyplot as plt"
   ]
  },
  {
   "cell_type": "code",
   "execution_count": null,
   "metadata": {
    "executionInfo": {
     "elapsed": 5,
     "status": "ok",
     "timestamp": 1650848687487,
     "user": {
      "displayName": "Takanobu Amano",
      "userId": "09073760943970528850"
     },
     "user_tz": -540
    },
    "id": "JCIDgckKJ2dC"
   },
   "outputs": [],
   "source": [
    "# フォントサイズ\n",
    "plt.rcParams[\"font.size\"] = 14"
   ]
  },
  {
   "cell_type": "markdown",
   "metadata": {
    "id": "DWwuvYX5DjV0"
   },
   "source": [
    "## 非粘性Burgers方程式の衝撃波解および膨張波解\n",
    "\n",
    "$\\alpha = 0$の非粘性Burgers方程式を考える．\n",
    "計算領域は$-1 \\leq x \\leq +1$で境界条件は周期境界条件，初期条件は\n",
    "$$\n",
    "u(x) =\n",
    "\\begin{cases}\n",
    "& 0 \\quad -1 < x < -\\frac{1}{3} \\\\\n",
    "& 1 \\quad -\\frac{1}{3} < x < +\\frac{1}{3} \\\\\n",
    "& 0 \\quad +\\frac{1}{3} < x < 1 \\\\\n",
    "\\end{cases}\n",
    "$$\n",
    "とする．$x = +1/3$の不連続は衝撃波，$x = -1/3$の不連続は膨張波を形成する．\n",
    "\n",
    "膨張波と衝撃波が交わるまで($t < 4/3$)の解析解は\n",
    "$$\n",
    "u(x, t) =\n",
    "\\begin{cases}\n",
    "& 0 & -1 < x < x_1 \\\\\n",
    "& (x-x_1)/(x_2 - x_1) & x_1 < x < x_2 \\\\\n",
    "& 1 & x_2 < x < x_3 \\\\\n",
    "& 0 & x_3 < x < +1\n",
    "\\end{cases}\n",
    "$$\n",
    "で与えられる．ここで$x_1 = -1/3$, $x_2 = t - 1/3$, $x_3 = t/2 + 1/3$である．\n",
    "\n",
    "### 1次精度風上差分スキーム\n",
    "ここでは（数値振動が生じない限りは）常に$u > 0$である．これを仮定すると以下の3通りのスキームが考えられる．\n",
    "$$\n",
    "\\begin{align}\n",
    "\\frac{u^{n+1}_{i} - u^{n}_{i}}{\\Delta t} &+\n",
    "\\frac{u^{n}_{i} + u^{n}_{i-1}}{2} \\frac{u^{n}_{i} - u^{n}_{i-1}}{\\Delta x}\n",
    "= 0 \\tag{A} \\\\\n",
    "\\frac{u^{n+1}_{i} - u^{n}_{i}}{\\Delta t} &+\n",
    "u^{n}_{i} \\frac{u^{n}_{i} - u^{n}_{i-1}}{\\Delta x}\n",
    "= 0 \\tag{B} \\\\\n",
    "\\frac{u^{n+1}_{i} - u^{n}_{i}}{\\Delta t} &+\n",
    "u^{n}_{i-1} \\frac{u^{n}_{i} - u^{n}_{i-1}}{\\Delta x}\n",
    "= 0 \\tag{C} \\\\\n",
    "\\end{align}\n",
    "$$\n"
   ]
  },
  {
   "cell_type": "code",
   "execution_count": null,
   "metadata": {
    "colab": {
     "base_uri": "https://localhost:8080/",
     "height": 457
    },
    "executionInfo": {
     "elapsed": 920,
     "status": "ok",
     "timestamp": 1650848688403,
     "user": {
      "displayName": "Takanobu Amano",
      "userId": "09073760943970528850"
     },
     "user_tz": -540
    },
    "id": "aXL7KLmWDmNi",
    "outputId": "4f29df27-11b0-4e21-a8fb-5bc209f795ab"
   },
   "outputs": [],
   "source": [
    "def set_initial(Nx):\n",
    "  dx = 2.0/Nx\n",
    "  xx = dx*np.arange(Nx+2) - (1 + 0.5*dx)\n",
    "  uu = np.where(np.abs(xx) < 1/3, 1.0, 0.0)\n",
    "  return xx, dx, uu\n",
    "\n",
    "def analytic_solution(t, x):\n",
    "  x1 = - 1/3\n",
    "  x2 = t - 1/3\n",
    "  x3 = t/2 + 1/3\n",
    "  i1 = np.argwhere(np.logical_and(x1 < x, x < x2))\n",
    "  i2 = np.argwhere(np.logical_and(x2 < x, x < x3))\n",
    "  uu = np.zeros_like(x)\n",
    "  uu[i1] = (x[i1] - x1)/(x2 - x1)\n",
    "  uu[i2] = 1\n",
    "  return uu\n",
    "\n",
    "def push_upwind(u, dt, dx, step, scheme):\n",
    "  Nx = np.size(u) - 2\n",
    "  ix = np.arange(1, Nx+1, dtype=np.int32)\n",
    "  if scheme == 'A':\n",
    "    for n in range(step):\n",
    "      # 更新\n",
    "      u[ix] = u[ix] - 0.5*(u[ix]+u[ix-1])*dt/dx*(u[ix] - u[ix-1])\n",
    "      # 境界条件\n",
    "      u[   0] = u[Nx]\n",
    "      u[Nx+1] = u[ 1]\n",
    "  elif scheme == 'B':\n",
    "    for n in range(step):\n",
    "      # 更新\n",
    "      u[ix] = u[ix] - u[ix]*dt/dx*(u[ix] - u[ix-1])\n",
    "      # 境界条件\n",
    "      u[   0] = u[Nx]\n",
    "      u[Nx+1] = u[ 1]\n",
    "  elif scheme == 'C':\n",
    "    for n in range(step):\n",
    "      # 更新\n",
    "      u[ix] = u[ix] - u[ix-1]*dt/dx*(u[ix] - u[ix-1])\n",
    "      # 境界条件\n",
    "      u[   0] = u[Nx]\n",
    "      u[Nx+1] = u[ 1]\n",
    "  else:\n",
    "    raise ValueError('No such scheme')\n",
    "\n",
    "# パラメータ\n",
    "Nx = 200\n",
    "T  = 0.5\n",
    "nu = 0.5\n",
    "ix = np.arange(1, Nx+1)\n",
    "\n",
    "# 初期条件\n",
    "xx, dx, uu = set_initial(Nx)\n",
    "dt = nu*dx\n",
    "step = int(T/dt)\n",
    "\n",
    "# プロット\n",
    "fig, axs = plt.subplots(figsize=(10, 6))\n",
    "\n",
    "# A\n",
    "ua = uu.copy()\n",
    "push_upwind(ua, dt, dx, step, 'A')\n",
    "plt.plot(xx[ix], ua[ix], label='A')\n",
    "\n",
    "# B\n",
    "ub = uu.copy()\n",
    "push_upwind(ub, dt, dx, step, 'B')\n",
    "plt.plot(xx[ix], ub[ix], label='B')\n",
    "\n",
    "# C\n",
    "uc = uu.copy()\n",
    "push_upwind(uc, dt, dx, step, 'C')\n",
    "plt.plot(xx[ix], uc[ix], label='C')\n",
    "\n",
    "# 解析解\n",
    "uu = analytic_solution(T, xx)\n",
    "plt.plot(xx[ix], uu[ix], 'k-', label='Analytic')\n",
    "\n",
    "plt.xlim(-1.0, 1.0)\n",
    "plt.ylim(-0.1, +1.2)\n",
    "plt.xlabel('x')\n",
    "plt.ylabel('u')\n",
    "plt.legend(loc='upper left', bbox_to_anchor=(1.0, 1.0))\n",
    "plt.suptitle('t = {:4.2f}'.format(T))"
   ]
  },
  {
   "cell_type": "markdown",
   "metadata": {
    "id": "FffkUtLXQMht"
   },
   "source": [
    "## 滑らかな初期条件からの衝撃波の形成\n",
    "\n",
    "計算領域を$0 \\leq x \\leq 1$とし，初期条件を\n",
    "$$\n",
    "u(x) = \\sin \\left( 2\\pi x \\right)\n",
    "$$\n",
    "とする．このような滑らかな初期条件からスタートしても有限の時間で解の急峻化が起こり，衝撃波が形成する．ここでは保存形の数値計算スキームを考え，数値流速$\\hat{f}_{i+1/2}$の求め方としては以下の以下の2種類の方法を考えよう．\n",
    "\n",
    "### 1次精度風上差分スキーム\n",
    "$$\n",
    "\\hat{f}_{i+1/2} = \\frac{f_{i} + f_{i+1}}{2} -\n",
    "\\frac{|a_{i+1/2}|}{2} (u_{i+1} - u_{i}) -\n",
    "\\alpha \\frac{u_{i+1} - u_{i}}{\\Delta x}\n",
    "$$\n",
    "ただし，$f_{i} = (u_{i})^2 / 2$である．ここで\n",
    "$$\n",
    "a_{i+1/2} = \\left( \\frac{\\partial f}{\\partial u} \\right)_{i+1/2} =\n",
    "\\frac{f_{i+1} - f_{i}}{u_{i+1} - u_{i}} =\n",
    "\\frac{u_{i} + u_{i+1}}{2}\n",
    "$$\n",
    "はセル境界での位相速度である．\n",
    "（実はこれは線形化された近似Riemann解法とみなすことができる．）\n",
    "\n",
    "\n",
    "### 2段階Lax-Wendroffスキーム\n",
    "$$\n",
    "\\begin{aligned}\n",
    "& u_{i+1/2} = \\frac{u_{i} + u_{i+1}}{2} - \\frac{\\Delta t}{2 \\Delta x}\n",
    "\\left( f_{i+1} - f_{i} \\right)\n",
    "\\\\\n",
    "& \\hat{f}_{i+1/2} = \\frac{(u_{i+1/2})^2}{2} -\n",
    "\\kappa_{i+1/2} \\frac{\\Delta x}{\\Delta t} (u_{i+1} - u_{i}) -\n",
    "\\alpha \\frac{u_{i+1} - u_{i}}{\\Delta x}\n",
    "\\end{aligned}\n",
    "$$\n",
    "ここで\n",
    "$$\n",
    "\\kappa_{i+1/2} = \\varepsilon |u_{i+1} - u_{i}|\n",
    "$$\n",
    "である．"
   ]
  },
  {
   "cell_type": "code",
   "execution_count": null,
   "metadata": {
    "colab": {
     "base_uri": "https://localhost:8080/",
     "height": 669
    },
    "executionInfo": {
     "elapsed": 894,
     "status": "ok",
     "timestamp": 1650848689283,
     "user": {
      "displayName": "Takanobu Amano",
      "userId": "09073760943970528850"
     },
     "user_tz": -540
    },
    "id": "WvKkN0f3a4PR",
    "outputId": "49cd2fe8-6435-4b22-be22-1d91fd06d230"
   },
   "outputs": [],
   "source": [
    "def set_initial(Nx):\n",
    "  dx = 1.0/Nx\n",
    "  xx = dx*np.arange(Nx+2) - 0.5*dx\n",
    "  uu = np.sin(2*np.pi*xx)\n",
    "  return xx, dx, uu\n",
    "\n",
    "def push_upwind(u, dt, dx, alpha, step):\n",
    "  Nx = np.size(u) - 2\n",
    "  ix = np.arange(1, Nx+1, dtype=np.int32)\n",
    "  hx = np.arange(0, Nx+1, dtype=np.int32) # i+1/2\n",
    "  fx = np.zeros_like(u)\n",
    "  for n in range(step):\n",
    "    # 更新\n",
    "    fx[hx] = 0.25*(u[hx+1]**2 + u[hx]**2) \\\n",
    "      - 0.25*np.abs(u[hx+1]+u[hx])*(u[hx+1] - u[hx]) \\\n",
    "      - alpha*(u[hx+1] - u[hx])/dx\n",
    "    u[ix] = u[ix] - dt/dx*(fx[ix] - fx[ix-1])\n",
    "    # 境界条件\n",
    "    u[   0] = u[Nx]\n",
    "    u[Nx+1] = u[ 1]\n",
    "\n",
    "def push_lw2(u, dt, dx, alpha, step, epsilon):\n",
    "  Nx = np.size(u) - 2\n",
    "  ix = np.arange(1, Nx+1, dtype=np.int32)\n",
    "  hx = np.arange(0, Nx+1, dtype=np.int32) # i+1/2\n",
    "  fx = np.zeros_like(u)\n",
    "  for n in range(step):\n",
    "    # 人工粘性の係数を決定\n",
    "    kappa = epsilon*np.abs(u[hx+1] - u[hx])\n",
    "    # 2段階Lax-Wendroffスキーム\n",
    "    uh = 0.5*(u[hx] + u[hx+1]) - 0.25*dt/dx*(u[hx+1]**2 - u[hx]**2)\n",
    "    fx[hx] = 0.5*uh**2 - (alpha + kappa*dx*dx/dt)*(u[hx+1] - u[hx])/dx\n",
    "    u[ix] = u[ix] - dt/dx*(fx[ix] - fx[ix-1])\n",
    "    # 境界条件\n",
    "    u[   0] = u[Nx]\n",
    "    u[Nx+1] = u[ 1]\n",
    "\n",
    "# パラメータ\n",
    "Nx = 200\n",
    "nu = 0.2\n",
    "ix = np.arange(1, Nx+1)\n",
    "alpha = 1.0e-3\n",
    "epsilon = 0.1\n",
    "\n",
    "# 初期条件\n",
    "xx, dx, uu = set_initial(Nx)\n",
    "dt = nu*dx\n",
    "\n",
    "print('alpha*dt/dx**2 = {:10.5e}'.format(alpha*dt/dx**2))\n",
    "\n",
    "# プロット\n",
    "fig, axs = plt.subplots(2, 1, figsize=(10, 10))\n",
    "\n",
    "axs[0].set_title('First-order Upwind')\n",
    "axs[1].set_title('Two-step Lax-Wendroff')\n",
    "u0 = uu.copy()\n",
    "u1 = uu.copy()\n",
    "\n",
    "step = 100\n",
    "for n in range(5):\n",
    "  axs[0].plot(xx[ix], u0[ix], label='t = {:5.3f}'.format(n*step*dt))\n",
    "  axs[1].plot(xx[ix], u1[ix], label='t = {:5.3f}'.format(n*step*dt))\n",
    "  push_upwind(u0, dt, dx, alpha, step)\n",
    "  push_lw2(u1, dt, dx, alpha, step, epsilon)\n",
    "\n",
    "for ax in axs:\n",
    "  ax.set_xlim(0.0, 1.0)\n",
    "  ax.set_ylabel('u')\n",
    "  ax.legend(loc='upper left', bbox_to_anchor=(1.0, 1.0))\n",
    "\n",
    "axs[0].set_xlabel('')\n",
    "axs[1].set_xlabel('x')"
   ]
  },
  {
   "cell_type": "code",
   "execution_count": null,
   "metadata": {
    "executionInfo": {
     "elapsed": 5,
     "status": "ok",
     "timestamp": 1650848689284,
     "user": {
      "displayName": "Takanobu Amano",
      "userId": "09073760943970528850"
     },
     "user_tz": -540
    },
    "id": "VB28riUSNtb3"
   },
   "outputs": [],
   "source": []
  }
 ],
 "metadata": {
  "colab": {
   "authorship_tag": "ABX9TyND96bgZ1xXZ0kwE1lyXi2c",
   "collapsed_sections": [],
   "name": "Burgers方程式.ipynb",
   "provenance": []
  },
  "kernelspec": {
   "display_name": "base",
   "language": "python",
   "name": "python3"
  },
  "language_info": {
   "codemirror_mode": {
    "name": "ipython",
    "version": 3
   },
   "file_extension": ".py",
   "mimetype": "text/x-python",
   "name": "python",
   "nbconvert_exporter": "python",
   "pygments_lexer": "ipython3",
   "version": "3.8.16"
  },
  "vscode": {
   "interpreter": {
    "hash": "546c21d3de566120dda309d1397c5675600fd1cfea721af46f796ef4bbd56950"
   }
  }
 },
 "nbformat": 4,
 "nbformat_minor": 0
}
